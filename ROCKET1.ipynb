{
  "nbformat": 4,
  "nbformat_minor": 0,
  "metadata": {
    "colab": {
      "name": "ROCKET1.ipynb",
      "provenance": [],
      "collapsed_sections": []
    },
    "kernelspec": {
      "name": "python3",
      "display_name": "Python 3"
    },
    "language_info": {
      "name": "python"
    }
  },
  "cells": [
    {
      "cell_type": "markdown",
      "source": [
        "# Algorytm ROCKET w wersji dla szeregów czasowych wielu zmiennych **cz. I**\n",
        "\n",
        "\n",
        "\n"
      ],
      "metadata": {
        "id": "APei1YC5nMlW"
      }
    },
    {
      "cell_type": "markdown",
      "source": [
        "**Autorzy: Mariola Bartosik & Krystian Okręglicki**\n"
      ],
      "metadata": {
        "id": "7dXWqsKKnXjj"
      }
    },
    {
      "cell_type": "markdown",
      "source": [
        "## Wprowadzenie"
      ],
      "metadata": {
        "id": "ec15hh4Y2Q6m"
      }
    },
    {
      "cell_type": "markdown",
      "source": [
        "Algorytm ROCKET przekształca szeregi czasowe wykorzystując losowe jądra splotowe stosowane w sieciach neuronowych. \n",
        "Szereg czasowy to ciąg obserwacji pokazujący kształtowanie sie badanego zjawiska. \n",
        "\\\n",
        " W naszym projekcie będziemy pracować na wielowymiarowych szereach przekrojowych, są to zbiory stanów $m$ zmiennych\n",
        "$Y_1, Y_2, ...., Y_m,$ z których każdy odnosi się do tego samego momentu lub okresu $t$\n",
        "i do innego $j$‑tego obiektu $(j = 1, 2,..., k)$, charakteryzujących zjawisko (stan obiektu). \\\n",
        "Algorytm ROCKET użyty do klasyfikacji szeregów z wykorzystaniem prostego klasyfikatora liniowego ma małą złożoność obliczeniową. \n",
        "Główną charakterystyką tego algorytmu jest wykorzystanie (domyślnie) 10000 jąder, które mają następujące własności \n",
        "\n",
        "\n",
        "*   długość wybieramy ze zbioru $\\{7,9,11\\}$\n",
        "*   wagę ustalamy ze standardowego rozkładu normalnego \n",
        "*  bias ustalamy z rozkładu jednostajnego na odcinku $(-1,1)$\n",
        "* dilation jest próbkowana z skali wykładniczej $2^x$ gdzie $x$ jest z rozkladu jednostajnego z przedziału $(0,A)$. Natomiast $A=\\log_2 \\frac{l_{input-1}}{l_{kernel-1}}$\n",
        "* padding (stosujemy lub nie) wypełnienie zerami początku i końca szeregu\n",
        "\n",
        "Zauważmy, że\n",
        "parametry wag i obciążenia zostaną ustalone w przedstawiony sposób biorąc pod uwagę, że wejściowe szeregi czasowe będa znormalizowane, czyli będą miały \n",
        "średnią równą $0$ i odchylenie standardowe równe $1$.\n",
        "\n",
        "\n"
      ],
      "metadata": {
        "id": "-QyDtks9ng2z"
      }
    },
    {
      "cell_type": "markdown",
      "source": [
        "## Implementacja"
      ],
      "metadata": {
        "id": "9LmbgSJ82Vme"
      }
    },
    {
      "cell_type": "markdown",
      "source": [
        "Zaimplementujemy algorytm dla szeregów wielowymiarowych.\n",
        "Zaczniemy od konstrukcji funkcji generującej losowe jądra. Funkcją generującą jądra będzie generate_kernels. Dzięki niej będziemy mogli w wygodny sposób stworzyć wszytskie parametry potrzebne do zaakplikowania jąder splotowych."
      ],
      "metadata": {
        "id": "lRDxYx77U5v5"
      }
    },
    {
      "cell_type": "markdown",
      "source": [
        "Następnie do każdego jądra zastosujemy każdy wejściowy szereg czasowy tworząc mapę cech. Do tego wykorzystamy funkcję *apply_kernels* lub *apply_kernels_fast*. Ich wyniki, czyli macierze przekształceń są identyczne, ale w związku z chęcią przyśpieszenia działania algorytmu powstała wersja *fast*, która wykorzystuje równoległe wykonywanie pętli, co pozwala nam na nawet czterokrotne zmniejszenie czasu. Funkcje ta będzie korzystać z dwoch dodatkowych funkcji *apply_kernel_univariate* oraz *apply_kernel_multiivariate*, które będą działać na szeregach w zależności od typu przetwarzanego w danej chwili szeregu. \\\n"
      ],
      "metadata": {
        "id": "5zn6atv5snXn"
      }
    },
    {
      "cell_type": "markdown",
      "source": [
        "Wynik użycia jądra $\\omega$, z dilitation $d$ do  danego szeregu czasowego $X$ dla pozycji $X_i$ jest dany poprzez\n",
        "$$ X_i \\cdot \\omega=\\sum_{j=0}^{l_{kernel}-1}  X_{i+(j\\times d)}\\times \\omega_j  $$\n",
        "\n",
        " ROCKET obliczy 2 cechy z każdej mapy. Zatem dla $ k$ jąder, ROCKET stworzy $2k$ cech.\n",
        "\n",
        "\n",
        "\n",
        " Cechami są\n",
        "* maksymalna wartość\n",
        "* ppv - odsetek pozytywnie sklasyfikowanych przypadków, które były naprawdę pozytywne\n",
        "\n",
        "Przekształcone cechy są używane do trenowania.\n",
        "\n",
        "Następnie użyjemy regresji grzbietowej."
      ],
      "metadata": {
        "id": "aWTFP5MmyDpe"
      }
    },
    {
      "cell_type": "markdown",
      "source": [
        "## Klasyfikacja"
      ],
      "metadata": {
        "id": "b753xTXrXk5g"
      }
    },
    {
      "cell_type": "markdown",
      "source": [
        "W naszych zbiorach danych częstym przypadkiem jest występowanie więcej niż jednej klasy/targetu. Podejdziemy więc do problemu klasyfikacji stosując metodę korzystajacą z regresji grzbietowej. Będziemy budujować model dla każdej klasy osobno, zamieniając przy tym inne klasy na -1, a tą konkretną na 1. W każdym przypadku będziemy szukać najlepszej wartości $\\lambda$ używając cross-walidacji.  Następnie używając tych modeli stworzymy macierz, z której dla każdego szeregu wybierzemy indeks kolumny, w której jest największa wartość. Jest to znany sposób na klasyfikację z wykorzystaniem regresji. "
      ],
      "metadata": {
        "id": "hUv4fk6F2Mgx"
      }
    },
    {
      "cell_type": "markdown",
      "source": [
        "## Badania i Wyniki"
      ],
      "metadata": {
        "id": "HW7Nnpuk2nlf"
      }
    },
    {
      "cell_type": "markdown",
      "source": [
        "Zbiory danych pochodzą ze strony *http://www.timeseriesclassification.com/dataset.php*. W tym raporcie przeanalizujemy klasyfikację czterowymiarowego zbioru  **ERing**. "
      ],
      "metadata": {
        "id": "BP8GnsleCvSa"
      }
    },
    {
      "cell_type": "markdown",
      "source": [
        "Zacznijmy od załadowania potrzebnych bibliotek.\n",
        "\n"
      ],
      "metadata": {
        "id": "xRQZEJHF_oR1"
      }
    },
    {
      "cell_type": "code",
      "source": [
        "#potrzebne biblioteki\n",
        "library(tictoc)\n",
        "library(foreach)\n",
        "library(doParallel)\n",
        "library(foreign)\n",
        "library(glmnet)"
      ],
      "metadata": {
        "id": "MjYs6Uzu_r4g"
      },
      "execution_count": null,
      "outputs": []
    },
    {
      "cell_type": "markdown",
      "source": [
        "Po pierwsze należy wywołać wszystkie funkcje z pliku *Rocket_funkcje_ostateczna*. Następnie należy wczytać dane i zapisać jako listy zmiennych w sposób przedstawiony poniżej. "
      ],
      "metadata": {
        "id": "sNCHNuayzFFB"
      }
    },
    {
      "cell_type": "code",
      "source": [
        "#wczytanie danych i zapisanie jako dwie listy: \n",
        "#X- ramek danych treningowych, Y- ramek danych testowych\n",
        "\n",
        "Mw <- read.arff(file=\"ERingDimension1_TRAIN.arff\")\n",
        "Mx <- read.arff(file=\"ERingDimension2_TRAIN.arff\")\n",
        "My <- read.arff(file=\"ERingDimension3_TRAIN.arff\")\n",
        "Mz <- read.arff(file=\"ERingDimension4_TRAIN.arff\")\n",
        "\n",
        "Tw <- read.arff(file=\"ERingDimension1_TEST.arff\")\n",
        "Tx <- read.arff(file=\"ERingDimension2_TEST.arff\")\n",
        "Ty <- read.arff(file=\"ERingDimension3_TEST.arff\")\n",
        "Tz <- read.arff(file=\"ERingDimension4_TEST.arff\")\n",
        " \n",
        "X <- list(Mw, Mx, My, Mz) #lista ramek danych treningowych\n",
        "Y <- list(Tw, Tx, Ty, Tz) #lista ramek danych testowych\n"
      ],
      "metadata": {
        "id": "Ri-ZH87kzHSH"
      },
      "execution_count": null,
      "outputs": []
    },
    {
      "cell_type": "markdown",
      "source": [
        "Jeśli klasy są w pierwszej kolumnie należy użyć do list następujących funkcji. Jeśli klasy są w ostaniej kolumnie należy pominąć ten krok."
      ],
      "metadata": {
        "id": "o6U3EZhXiAJO"
      }
    },
    {
      "cell_type": "code",
      "source": [
        "#X lista danych treningowych\n",
        "#Y lista danych testowych\n",
        "X <-zmiana_klas(X)\n",
        "Y <-zmiana_klas(Y)"
      ],
      "metadata": {
        "id": "fk6QaAcoiNJR"
      },
      "execution_count": null,
      "outputs": []
    },
    {
      "cell_type": "markdown",
      "source": [
        "Następnie aby uzyskać wyniki dla 10 prób na danym zbiorze wywołujemy *dokladnosc_(X,Y)*. Zakładamy, że każda ramka danych ze zbioru danych ma klasę/target w ostatnich kolumnach. Jeśli klasy są liczbami, nie trzeba podawac więcej argumentów, jeśli klasy są napisami, należy dodać argument *typ_klasy=1* (tzn. *dokladnosc_(X, Y, typ_klasy=1)*. Domyślnie przyjmujemy $1000$ kerneli, jeśli chcemy zmienić liczbę wystarczy dodać argument *liczba_ker*, np. *dokladnosc_(X, Y, liczba_ker=55, typ_klasy=1)*"
      ],
      "metadata": {
        "id": "4ZsQMkqkY1wR"
      }
    },
    {
      "cell_type": "code",
      "source": [
        "dokladnosc_(X, Y, liczba_ker=55, typ_klasy=1)"
      ],
      "metadata": {
        "id": "RvqfdBum7J0F"
      },
      "execution_count": null,
      "outputs": []
    },
    {
      "cell_type": "markdown",
      "source": [
        "###WYNIKI"
      ],
      "metadata": {
        "id": "QzKm4IzKDCTs"
      }
    },
    {
      "cell_type": "markdown",
      "source": [
        "Wygenerujemy macierze przedstawiające dla 100 i 1000 kerneli dokładność klasyfikacji dla 10 doświadczeń. Dokładność jest wartością z przedziału $[0,1]$ dla danych ze zbioru. Liczona jest przy użyciu wzoru $$\\frac{\\text{liczba wszystkich dobrze sklasifikowanych obserwacji}}{\\text{liczba wszystkich klasyfikowanych obserwacji}}$$ W przedostatniem wierszu podamy średnią, natomiast w ostatnim wariancję. Widzimy z tabelki, że uzyskane dla $1000$ kerneli wyniki są z przedziału $(94\\%,97\\%)$. Bardzo dobre wyniki otrzymujemy także przy wykorzystaniu tylko 100 kerneli. Wyniki potwierdzają skuteczność algorytmu ROCKET.\n",
        "\n",
        "\n"
      ],
      "metadata": {
        "id": "M3r5kQAwDKh5"
      }
    },
    {
      "cell_type": "markdown",
      "source": [
        "![image.png](data:image/png;base64,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)"
      ],
      "metadata": {
        "id": "oXTL7exVTlHE"
      }
    },
    {
      "cell_type": "markdown",
      "source": [
        "Dodatkowo przeprowadzimy badania na innych równych zbiorach i porównamy wyniki z uzyskanymi na przyciętych danych. \n",
        "Przycinanie wykonanamy dla każdej z klasy z osobna oraz osobno dla plików train i test. Wówczas w każdej klasie przycinanie będzie według tego samego algorytmu.\n",
        "Przyjmiemy, że dla każdej klasy 1/3 instancji będzie miała długość z przedziału [10%,40%] oryginalnej długości, 1/3 instancji będzie miała długości (40%,70%] oryginalnej długości,  a pozostała część (70%,100%]. \n",
        "\n",
        "Następnie wszystkie eksperymenty powtórzymy 10 razy i wyniki uśrednimy.\n",
        "Wyniki zaprezentujemy w drugim raporcie."
      ],
      "metadata": {
        "id": "8PlUnhQhsxuO"
      }
    }
  ]
}
